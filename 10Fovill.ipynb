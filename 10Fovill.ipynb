{
  "nbformat": 4,
  "nbformat_minor": 0,
  "metadata": {
    "colab": {
      "provenance": [],
      "authorship_tag": "ABX9TyO+Hl94zi4nPEd+0b5RzWZg",
      "include_colab_link": true
    },
    "kernelspec": {
      "name": "python3",
      "display_name": "Python 3"
    },
    "language_info": {
      "name": "python"
    }
  },
  "cells": [
    {
      "cell_type": "markdown",
      "metadata": {
        "id": "view-in-github",
        "colab_type": "text"
      },
      "source": [
        "<a href=\"https://colab.research.google.com/github/Nathapol-vill/Project-1_Coding/blob/main/10Fovill.ipynb\" target=\"_parent\"><img src=\"https://colab.research.google.com/assets/colab-badge.svg\" alt=\"Open In Colab\"/></a>"
      ]
    },
    {
      "cell_type": "markdown",
      "source": [
        "เลขที่ 10 โฟรวิว นายณฐพล ดวงประวัติ\n",
        "# No. 10 Fovill😍 Nathapol Doungprawat"
      ],
      "metadata": {
        "id": "AuDGWcMzcg9Q"
      }
    },
    {
      "cell_type": "markdown",
      "source": [
        "# 20/05/67\n",
        "\n",
        "วันนี้เรียน\n",
        "*   Print : ทบทวนเนื้อหาพื้นฐาน ทำโจทย์\n"
      ],
      "metadata": {
        "id": "SslcJkNc_D1b"
      }
    },
    {
      "cell_type": "code",
      "source": [
        "print(\"วิวเอง สวัสดีคั้บบ😘😍\")"
      ],
      "metadata": {
        "colab": {
          "base_uri": "https://localhost:8080/"
        },
        "id": "vNhNVOE7-3ED",
        "outputId": "3c46cf92-75d3-41ce-deb5-eabd219f52f6"
      },
      "execution_count": null,
      "outputs": [
        {
          "output_type": "stream",
          "name": "stdout",
          "text": [
            "วิวเอง สวัสดีงับ😘😍\n"
          ]
        }
      ]
    },
    {
      "cell_type": "code",
      "source": [
        "print (\" /\\/\\/\\ \")"
      ],
      "metadata": {
        "colab": {
          "base_uri": "https://localhost:8080/"
        },
        "id": "3DTih7JcEPVc",
        "outputId": "15f1da07-9dd2-4be3-acb2-3076975c1a4f"
      },
      "execution_count": null,
      "outputs": [
        {
          "output_type": "stream",
          "name": "stdout",
          "text": [
            " /\\/\\/\\ \n"
          ]
        }
      ]
    },
    {
      "cell_type": "markdown",
      "source": [
        "# 29/05/67\n",
        "\n",
        "มื้อนี้เรียน\n",
        "print เรื่อง\n",
        "\n",
        "* **type** int float str ⌨\n",
        "*   ตัวแปร ❌**ไม่สามารถ**ขึ้นต้นด้วย **ตัวเลข** ไม่สามารถ**เว้นวรรค**ได้ ไม่ควรขึ้นต้นด้วย **ตัวอักษรพิมพ์ใหญ่** ❌\n",
        "\n",
        "\n",
        "\n"
      ],
      "metadata": {
        "id": "24STHbNHXW9H"
      }
    },
    {
      "cell_type": "code",
      "source": [
        " a = 2\n",
        " b = 1.5\n",
        " c = \"Fovill\"\n",
        "\n",
        " type (b)\n",
        "\n",
        " print (\"คัวแปรที่ฉันคิด คือ n\")\n",
        "\n"
      ],
      "metadata": {
        "colab": {
          "base_uri": "https://localhost:8080/"
        },
        "id": "cmalTPkRY1b4",
        "outputId": "f15b1f9e-f194-4951-97a8-73e2814b9dd1"
      },
      "execution_count": null,
      "outputs": [
        {
          "output_type": "stream",
          "name": "stdout",
          "text": [
            "คัวแปรที่ฉันคิด คือ n\n"
          ]
        }
      ]
    },
    {
      "cell_type": "code",
      "source": [
        "numeric1 = 5\n",
        "print (numeric1)\n",
        "type (numeric1)\n"
      ],
      "metadata": {
        "colab": {
          "base_uri": "https://localhost:8080/"
        },
        "id": "iIQQgMmykWuL",
        "outputId": "37f6324e-9a4c-4374-e6b0-c01f7bf94771"
      },
      "execution_count": null,
      "outputs": [
        {
          "output_type": "stream",
          "name": "stdout",
          "text": [
            "5\n"
          ]
        },
        {
          "output_type": "execute_result",
          "data": {
            "text/plain": [
              "int"
            ]
          },
          "metadata": {},
          "execution_count": 18
        }
      ]
    },
    {
      "cell_type": "markdown",
      "source": [
        "# 5/6/67\n",
        "\n",
        "\n",
        "*   การใช้ index ให้ใช้ **[ ]** ในการกำหนดindexที่ต้องการ index คือ **ตำแหน่ง**ของ**ตัวอักษร** หรือ **กลุ่มคำ**ที่กำหนด วิธีใช้  ข้อมูล**ตัวแรก**สุดจะมี Index **เป็น 0 และตัวถัด ๆ ไปก็ค่อย ๆ +1** เพิ่ม หรือ -1 ตั้งแต่ตัวท้าย ไล่มา -2, -3 , -4 , ... ไปเรื่อย ๆ จนถึงตัวแรก\n",
        "\n",
        "> P y t h o n\n",
        "\n",
        "> 0 1 2 3 4 5\n",
        "\n",
        "\n",
        "\n",
        "*   การทำงานของคอมพิวเตอร์\n",
        "\n",
        "\n",
        "> 💕**input** นำเข้า : ป้อนโค้ดลงโปรแกรม\n",
        "\n",
        "> 💞**process** คิด : ประมวลผลโค้ดที่เขียน\n",
        "\n",
        "> 💖**output** แสดงผล : แสดงผลลัพธ์ของโค้ด\n",
        "\n",
        "\n",
        "\n",
        "\n",
        "\n",
        "\n",
        "\n",
        "\n",
        "\n",
        "\n",
        "\n",
        "\n",
        "\n",
        "\n",
        "\n"
      ],
      "metadata": {
        "id": "JPOR1w7CYXk7"
      }
    },
    {
      "cell_type": "code",
      "source": [
        "string1 = [\"Python\", 'จุ้ฟฟ', \"❤❤\"]\n",
        "print (string1[2])"
      ],
      "metadata": {
        "colab": {
          "base_uri": "https://localhost:8080/"
        },
        "id": "D9ae8YB6YXKs",
        "outputId": "07e1b926-ff2d-4e1c-d543-9fbb3693a0da"
      },
      "execution_count": null,
      "outputs": [
        {
          "output_type": "stream",
          "name": "stdout",
          "text": [
            "❤❤\n"
          ]
        }
      ]
    },
    {
      "cell_type": "markdown",
      "source": [
        "# 26 / 06 / 67\n",
        "\n",
        "input"
      ],
      "metadata": {
        "id": "WKfDNDJFthM9"
      }
    },
    {
      "cell_type": "code",
      "source": [
        "name = input(\"ใส่ชื่อมาตรงนี้เลยคับบ   👉👉    \")\n",
        "print (name)"
      ],
      "metadata": {
        "colab": {
          "base_uri": "https://localhost:8080/"
        },
        "id": "HTCYkyMivAMX",
        "outputId": "9fc36659-4bbd-42c8-a4ef-0f7bf96d83af"
      },
      "execution_count": null,
      "outputs": [
        {
          "output_type": "stream",
          "name": "stdout",
          "text": [
            "ใส่ชื่อมาตรงนี้เลยคับบ   👉👉    3\n",
            "3\n"
          ]
        }
      ]
    },
    {
      "cell_type": "code",
      "source": [
        "side1 = int(input(\"ความยาวด้าน1 (ซม.) คือ \"))\n",
        "side2 = int(input(\"ความยาวด้านที่2 (ซม.) คือ\"))\n",
        "\n",
        "area = side1 * side2\n",
        "\n",
        "print(\"พื้นที่สี่เหลี่ยม เท่ากับ\", area , \"เซนติเมตร\")"
      ],
      "metadata": {
        "colab": {
          "base_uri": "https://localhost:8080/"
        },
        "id": "SGWDIepBy86n",
        "outputId": "2242c197-c52f-4a09-9f97-61e792f3424d"
      },
      "execution_count": null,
      "outputs": [
        {
          "output_type": "stream",
          "name": "stdout",
          "text": [
            "ความยาวด้าน (ซม.) คือ 3\n",
            "ความยาวด้านที่2 (ซม.) คือ3\n",
            "พื้นที่สี่เหลี่ยม เท่ากับ 9 เซนติเมตร\n"
          ]
        }
      ]
    },
    {
      "cell_type": "markdown",
      "source": [
        "# 01/07/67\n",
        "ทำโจทย์ แบบฝึกหัด\n",
        "\n",
        "---\n",
        "\n",
        ">เงื่อนไข ของ BMI\n",
        "\n",
        "1.   ถ้า BMI < 18.5 แปลว่า ต่ำกว่าเกณฑ์\n",
        "2.   ถ้า  18.5< BMI <22.9  แปลว่า สมส่วน\n",
        "3.   ถ้า BMI > 22.9 แปลว่า เกินเหณฑ์\n",
        "\n",
        "\n",
        "\n",
        "\n",
        "\n",
        "\n",
        "\n"
      ],
      "metadata": {
        "id": "ClUEsorYPhLl"
      }
    },
    {
      "cell_type": "code",
      "source": [
        "print(\"พท.สี่เหลี่ยมผืนผ้า\")\n",
        "width = int(input(\"ความยาวด้าน กว้าง (ซม.) คือ \"))\n",
        "length = int(input(\"ความยาวด้านที่ ยาว (ซม.) คือ \"))\n",
        "\n",
        "area = width * length\n",
        "\n",
        "print(\"พื้นที่สี่เหลี่ยมผืนผ้า เท่ากับ\", area , \"เซนติเมตร\")"
      ],
      "metadata": {
        "colab": {
          "base_uri": "https://localhost:8080/"
        },
        "id": "B-rkWF9aPm4a",
        "outputId": "6f112fbe-d96a-40d5-b7ea-aed13909260e"
      },
      "execution_count": null,
      "outputs": [
        {
          "output_type": "stream",
          "name": "stdout",
          "text": [
            "ความยาวด้าน กว้าง (ซม.) คือ 5\n",
            "ความยาวด้านที่ ยาว (ซม.) คือ 5\n",
            "พื้นที่สี่เหลี่ยมผืนผ้า เท่ากับ 25 เซนติเมตร\n"
          ]
        }
      ]
    },
    {
      "cell_type": "code",
      "source": [
        "print(\"หาอัตราเร็ว\")\n",
        "s = int(input(\"ระยะทาง (m) คือ \"))\n",
        "t = int(input(\"เวลาที่ใช้ (s) คือ \"))\n",
        "\n",
        "V = s / t\n",
        "\n",
        "print(\"อัตราเร็ว (V) เท่ากับ\", V , \"m/s\")"
      ],
      "metadata": {
        "colab": {
          "base_uri": "https://localhost:8080/"
        },
        "id": "_WNMdHXOR3QX",
        "outputId": "1fc3d1f4-b547-46cf-9e96-1f065b1d5655"
      },
      "execution_count": null,
      "outputs": [
        {
          "output_type": "stream",
          "name": "stdout",
          "text": [
            "ระยะทาง (m) คือ 5\n",
            "เวลาที่ใช้ (s) คือ 5\n",
            "อัตราเร็ว (V) เท่ากับ 1.0 m/s\n"
          ]
        }
      ]
    },
    {
      "cell_type": "code",
      "source": [
        "print(\"ดัชนีมวลกาย\")\n",
        "weight = float(input(\"น้ำหนัก (kg) คือ \"))\n",
        "height = float(input(\"ส่วนสูง (m) คือ \"))\n",
        "\n",
        "BMI =  weight / (height ** 2)\n",
        "\n",
        "print(\"ค่า BMI ของคุณ เท่ากับ %.2f \" % BMI )"
      ],
      "metadata": {
        "colab": {
          "base_uri": "https://localhost:8080/"
        },
        "id": "YmfkIfOjXu_K",
        "outputId": "c5462205-295c-4d93-cc89-e4343fa2b2df"
      },
      "execution_count": null,
      "outputs": [
        {
          "output_type": "stream",
          "name": "stdout",
          "text": [
            "ดัชนีมวลกาย\n",
            "น้ำหนัก (kg) คือ 49\n",
            "ส่วนสูง (m) คือ 1.67\n",
            "ค่า BMI ของคุณ เท่ากับ 17.57 \n"
          ]
        }
      ]
    },
    {
      "cell_type": "code",
      "source": [
        "print(\"นี่คือโปรแกรมคำนวณ ค่าดัชนีมวลกาย 💪💪 \")\n",
        "print(\" by Fovill4\")\n",
        "print(\" 💖💖 เริ่มเลยคับ 😋😋 \")\n",
        "weight = float(input(\"น้ำหนัก (kg) คือ \"))\n",
        "height = float(input(\"ส่วนสูง (m) คือ \"))\n",
        "\n",
        "BMI =  weight / (height ** 2)\n",
        "\n",
        "print(\"ค่า BMI ของคุณ เท่ากับ %.2f \" % BMI )"
      ],
      "metadata": {
        "id": "s_P68Hdjabaj",
        "colab": {
          "base_uri": "https://localhost:8080/"
        },
        "outputId": "c0098140-973b-47b4-f9c4-bbaa280cd54e"
      },
      "execution_count": null,
      "outputs": [
        {
          "output_type": "stream",
          "name": "stdout",
          "text": [
            "นี่คือโปรแกรมคำนวณ ค่าดัชนีมวลกาย 💪💪 \n",
            " by Fovill4\n",
            " 💖💖เริ่มเลยคับ 😋😋 \n",
            "น้ำหนัก (kg) คือ 49\n",
            "ส่วนสูง (m) คือ 1.79\n",
            "ค่า BMI ของคุณ เท่ากับ 15.29 \n"
          ]
        }
      ]
    },
    {
      "cell_type": "code",
      "source": [
        "print(\"นี่คือโปรแกรมคำนวณ ค่าดัชนีมวลกาย 💪💪 \")\n",
        "print(\" by Fovill4\")\n",
        "print(\" 💖💖 เริ่มเลยคับ 😋😋 \")\n",
        "name = input(\"คุณพี่ชื่อ   👉    \")\n",
        "\n",
        "weight = float(input(\"น้ำหนัก (kg) คือ \"))\n",
        "height = float(input(\"ส่วนสูง (m) คือ \"))\n",
        "\n",
        "BMI =  weight / (height ** 2)\n",
        "\n",
        "print(\"ค่า BMI ของคุณ\" , name , \"เท่ากับ %.2f \" % BMI )"
      ],
      "metadata": {
        "colab": {
          "base_uri": "https://localhost:8080/"
        },
        "id": "sEo49mRNeGtV",
        "outputId": "e767713b-746e-4312-89b4-32c677ba0153"
      },
      "execution_count": null,
      "outputs": [
        {
          "output_type": "stream",
          "name": "stdout",
          "text": [
            "นี่คือโปรแกรมคำนวณ ค่าดัชนีมวลกาย 💪💪 \n",
            " by Fovill4\n",
            " 💖💖 เริ่มเลยคับ 😋😋 \n",
            "คุณพี่ชื่อ   👉    Fovill\n",
            "น้ำหนัก (kg) คือ 49\n",
            "ส่วนสูง (m) คือ 1.75\n",
            "ค่า BMI ของคุณ Fovill เท่ากับ 16.00 \n"
          ]
        }
      ]
    },
    {
      "cell_type": "code",
      "source": [
        "print(\"นี่คือโปรแกรมคำนวณ ค่าดัชนีมวลกาย 💪💪 \")\n",
        "print(\" by Fovill4\")\n",
        "print(\" 💖💖 เริ่มเลยคับ 😋😋 \")\n",
        "name = input(\"คุณพี่ชื่อ   👉    \")\n",
        "\n",
        "weight = float(input(\"น้ำหนัก (kg) คือ \"))\n",
        "height = float(input(\"ส่วนสูง (m) คือ \"))\n",
        "\n",
        "BMI =  weight / (height ** 2)\n",
        "\n",
        "if BMI > \"ฤดูร้อน\":\n",
        "  print(\"\\n\")\n",
        "elif BMI == \"\":\n",
        "  print(\"\\n\")\n",
        "elif BMI == \"\":\n",
        "  print(\"\")\n",
        "\n",
        "print(\"ค่า BMI ของคุณ\" , name , \"เท่ากับ %.2f \" % BMI )\n"
      ],
      "metadata": {
        "id": "wnAdSoCpgzeL"
      },
      "execution_count": null,
      "outputs": []
    }
  ]
}